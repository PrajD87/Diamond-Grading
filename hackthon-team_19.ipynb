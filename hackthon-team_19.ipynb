{
 "cells": [
  {
   "cell_type": "code",
   "execution_count": 26,
   "id": "33ab4cef",
   "metadata": {},
   "outputs": [
    {
     "name": "stdout",
     "output_type": "stream",
     "text": [
      "   Carat Weight    Cut Color Clarity Polish Symmetry Report  Price\n",
      "0          1.10  Ideal     H     SI1     VG       EX    GIA   5169\n",
      "1          0.83  Ideal     H     VS1     ID       ID   AGSL   3470\n",
      "2          0.85  Ideal     H     SI1     EX       EX    GIA   3183\n",
      "3          0.91  Ideal     E     SI1     VG       VG    GIA   4370\n",
      "4          0.83  Ideal     G     SI1     EX       EX    GIA   3171\n",
      "5          1.53  Ideal     E     SI1     ID       ID   AGSL  12791\n"
     ]
    }
   ],
   "source": [
    "import pandas as pd\n",
    "data=pd.read_csv('diamond.csv')\n",
    "print(data.head(6))\n",
    "      "
   ]
  },
  {
   "cell_type": "code",
   "execution_count": 22,
   "id": "2a2bc435",
   "metadata": {},
   "outputs": [
    {
     "name": "stdout",
     "output_type": "stream",
     "text": [
      "   Carat Weight    Cut Color Clarity Polish Symmetry Report  Price  \\\n",
      "0          1.10  Ideal     H     SI1     VG       EX    GIA   5169   \n",
      "1          0.83  Ideal     H     VS1     ID       ID   AGSL   3470   \n",
      "2          0.85  Ideal     H     SI1     EX       EX    GIA   3183   \n",
      "3          0.91  Ideal     E     SI1     VG       VG    GIA   4370   \n",
      "4          0.83  Ideal     G     SI1     EX       EX    GIA   3171   \n",
      "\n",
      "   Price_per_carat  \n",
      "0      4699.090909  \n",
      "1      4180.722892  \n",
      "2      3744.705882  \n",
      "3      4802.197802  \n",
      "4      3820.481928  \n"
     ]
    }
   ],
   "source": [
    "\n",
    "data['Price_per_carat'] = data['Price'] / data['Carat Weight']\n",
    "print(data.head())\n"
   ]
  },
  {
   "cell_type": "code",
   "execution_count": 24,
   "id": "ca826acf",
   "metadata": {},
   "outputs": [
    {
     "name": "stdout",
     "output_type": "stream",
     "text": [
      "Number of unique values for 'Cut', 'Color', and 'Clarity' columns:\n",
      "Cut        5\n",
      "Color      6\n",
      "Clarity    7\n",
      "dtype: int64\n"
     ]
    }
   ],
   "source": [
    "selected_columns = data[['Cut', 'Color', 'Clarity']]\n",
    "\n",
    "unique_values = selected_columns.nunique()\n",
    "\n",
    "print(\"Number of unique values for 'Cut', 'Color', and 'Clarity' columns:\")\n",
    "print(unique_values)"
   ]
  },
  {
   "cell_type": "code",
   "execution_count": 25,
   "id": "d566c21b",
   "metadata": {},
   "outputs": [
    {
     "name": "stdout",
     "output_type": "stream",
     "text": [
      "The Color-Clarity combination with the highest average Price_per_carat is:\n",
      "  Color Clarity\n",
      "0     D      FL\n",
      "Average Price_per_carat: 31209.85\n"
     ]
    }
   ],
   "source": [
    "import pandas as pd\n",
    "\n",
    "data['Price_per_carat'] = data['Price'] / data['Carat Weight']\n",
    "\n",
    "grouped = data.groupby(['Color', 'Clarity'])['Price_per_carat'].mean().reset_index()\n",
    "\n",
    "\n",
    "max_row = grouped[grouped['Price_per_carat'] == grouped['Price_per_carat'].max()]\n",
    "\n",
    "# Display the result rounded to two decimal places\n",
    "print(\"The Color-Clarity combination with the highest average Price_per_carat is:\")\n",
    "print(max_row[['Color', 'Clarity']])\n",
    "print(f\"Average Price_per_carat: {max_row['Price_per_carat'].values[0]:.2f}\")\n"
   ]
  }
 ],
 "metadata": {
  "kernelspec": {
   "display_name": "Python 3 (ipykernel)",
   "language": "python",
   "name": "python3"
  },
  "language_info": {
   "codemirror_mode": {
    "name": "ipython",
    "version": 3
   },
   "file_extension": ".py",
   "mimetype": "text/x-python",
   "name": "python",
   "nbconvert_exporter": "python",
   "pygments_lexer": "ipython3",
   "version": "3.11.4"
  }
 },
 "nbformat": 4,
 "nbformat_minor": 5
}
